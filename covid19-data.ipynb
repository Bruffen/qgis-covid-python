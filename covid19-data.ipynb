{
 "cells": [
  {
   "cell_type": "code",
   "execution_count": 1,
   "metadata": {},
   "outputs": [
    {
     "name": "stdout",
     "output_type": "stream",
     "text": [
      "Application state:\n",
      "QGIS_PREFIX_PATH env var:\t\tC:/OSGEO4~1/apps/qgis\n",
      "Prefix:\t\tC:/OSGEO4~1/apps/qgis\n",
      "Plugin Path:\t\tC:/OSGEO4~1/apps/qgis/plugins\n",
      "Package Data Path:\tC:/OSGEO4~1/apps/qgis/.\n",
      "Active Theme Name:\t\n",
      "Active Theme Path:\tC:/OSGEO4~1/apps/qgis/./resources/themes\\\\icons/\n",
      "Default Theme Path:\t:/images/themes/default/\n",
      "SVG Search Paths:\tC:/OSGEO4~1/apps/qgis/./svg/\n",
      "\t\tC:/Users/bruno/AppData/Roaming/python3\\profiles\\default/svg/\n",
      "User DB Path:\tC:/OSGEO4~1/apps/qgis/./resources/qgis.db\n",
      "Auth DB Path:\tC:/Users/bruno/AppData/Roaming/python3\\profiles\\default/qgis-auth.db\n",
      "\n"
     ]
    }
   ],
   "source": [
    "import os\n",
    "import sys\n",
    "os.environ['QT_QPA_PLATFORM'] = 'offscreen'\n",
    "\n",
    "from osgeo import ogr\n",
    "from qgis.core import *\n",
    "from qgis.gui import *\n",
    "from qgis import processing\n",
    "\n",
    "from qgis.PyQt.QtGui import QColor, QImage\n",
    "from qgis.PyQt.QtCore import QSize, QBuffer, QIODevice\n",
    "\n",
    "qgs = QgsApplication([], False)\n",
    "qgs.initQgis()\n",
    "print(QgsApplication.showSettings())"
   ]
  },
  {
   "cell_type": "code",
   "execution_count": 2,
   "metadata": {},
   "outputs": [],
   "source": [
    "import qgis.core"
   ]
  },
  {
   "cell_type": "code",
   "execution_count": null,
   "metadata": {},
   "outputs": [],
   "source": []
  }
 ],
 "metadata": {
  "kernelspec": {
   "display_name": "Python 3",
   "language": "python",
   "name": "python3"
  },
  "language_info": {
   "codemirror_mode": {
    "name": "ipython",
    "version": 3
   },
   "file_extension": ".py",
   "mimetype": "text/x-python",
   "name": "python",
   "nbconvert_exporter": "python",
   "pygments_lexer": "ipython3",
   "version": "3.7.0"
  }
 },
 "nbformat": 4,
 "nbformat_minor": 4
}
